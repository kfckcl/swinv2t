{
  "cells": [
    {
      "cell_type": "code",
      "source": [
        "#Thành viên nhóm:\n",
        "#-Lương Công Hoàn\n",
        "#-Huỳnh Quốc Trọng\n",
        "#-Lê Văn Thành\n",
        "#-Đỗ Hoàng Giang"
      ],
      "metadata": {
        "id": "mKhP0oGCoXT-"
      },
      "execution_count": 1,
      "outputs": []
    },
    {
      "cell_type": "code",
      "execution_count": 2,
      "metadata": {
        "colab": {
          "base_uri": "https://localhost:8080/"
        },
        "id": "0IBGj6zB5QJa",
        "outputId": "83db8dbb-cdf4-41c5-a9ef-a8076ce48273"
      },
      "outputs": [
        {
          "output_type": "stream",
          "name": "stdout",
          "text": [
            "Mounted at /content/drive\n"
          ]
        }
      ],
      "source": [
        "from google.colab import drive\n",
        "drive.mount('/content/drive')"
      ]
    },
    {
      "cell_type": "code",
      "execution_count": 3,
      "metadata": {
        "id": "fmHjzQYY511X"
      },
      "outputs": [],
      "source": [
        "from __future__ import print_function, division\n",
        "import os\n",
        "import torch\n",
        "import pandas as pd\n",
        "from skimage import io, transform\n",
        "import numpy as np\n",
        "import matplotlib.pyplot as plt\n",
        "from torch.utils.data import Dataset, DataLoader\n",
        "import torchvision\n",
        "from torchvision import models, transforms, utils\n",
        "import time\n",
        "import copy\n",
        "import torch.nn as nn\n",
        "import torch.optim as optim\n",
        "from torch.optim import lr_scheduler\n",
        "import torch.backends.cudnn as cudnn\n",
        "# Ignore warnings\n",
        "import warnings\n",
        "warnings.filterwarnings(\"ignore\")"
      ]
    },
    {
      "cell_type": "code",
      "execution_count": 4,
      "metadata": {
        "id": "U5i87ER958Ed"
      },
      "outputs": [],
      "source": [
        "class CustomMyDataset(Dataset):\n",
        "    def __init__(self, csv_file, root_dir, transform=None):\n",
        "        self.data_frame = pd.read_csv(csv_file)\n",
        "        self.root_dir = root_dir\n",
        "        self.transform = transform\n",
        "\n",
        "    def __len__(self):\n",
        "        return len(self.data_frame)\n",
        "\n",
        "    def __getitem__(self, idx):\n",
        "        if torch.is_tensor(idx):\n",
        "            idx = idx.tolist()\n",
        "        img_name = os.path.join(self.root_dir + self.data_frame.iloc[idx, 0] + '.jpg')\n",
        "        image = io.imread(img_name)\n",
        "        label = self.data_frame.iloc[idx, 1:]\n",
        "        label = np.array(label)\n",
        "        label = label.astype('float')\n",
        "\n",
        "        if self.transform:\n",
        "            image = self.transform(image).type('torch.FloatTensor')\n",
        "            label = torch.from_numpy(label)\n",
        "\n",
        "        return image, label"
      ]
    },
    {
      "cell_type": "code",
      "execution_count": 5,
      "metadata": {
        "id": "wKwKMErWmnOf"
      },
      "outputs": [],
      "source": [
        "data_transforms = {\n",
        "    'train': transforms.Compose([\n",
        "        transforms.ToTensor(),\n",
        "        transforms.RandomResizedCrop([600,450]),\n",
        "        transforms.RandomHorizontalFlip(),\n",
        "        transforms.Normalize([0.485, 0.456, 0.406], [0.229, 0.224, 0.225])\n",
        "    ]),\n",
        "    'val': transforms.Compose([\n",
        "        transforms.ToTensor(),\n",
        "        transforms.Resize([600,450]),\n",
        "        transforms.Normalize([0.485, 0.456, 0.406], [0.229, 0.224, 0.225])\n",
        "    ]),\n",
        "}\n",
        "\n"
      ]
    },
    {
      "cell_type": "code",
      "execution_count": 6,
      "metadata": {
        "id": "XrtlEce1nFvG"
      },
      "outputs": [],
      "source": [
        "train_data_dir = '/content/drive/MyDrive/data_val/ISIC2018_Task3_Training_Input/'\n",
        "valid_data_dir = '/content/drive/MyDrive/data_val/ISIC2018_Task3_Validation_Input/'\n",
        "\n",
        "train_groundtruth = \"/content/drive/MyDrive/data_val/ISIC2018_Task3_Training_GroundTruth/ISIC2018_Task3_Training_GroundTruth.csv\"\n",
        "valid_groundtruth = \"/content/drive/MyDrive/data_val/ISIC2018_Task3_Validation_GroundTruth/ISIC2018_Task3_Validation_GroundTruth.csv\"\n",
        "\n",
        "train_val_dataset_csv = {\n",
        "    'train': train_groundtruth,\n",
        "    'val': valid_groundtruth\n",
        "}\n",
        "train_val_dataset_dir = {\n",
        "    'train': train_data_dir,\n",
        "    'val': valid_data_dir\n",
        "}\n",
        "train_val_datasets = {x: CustomMyDataset(train_val_dataset_csv[x], train_val_dataset_dir[x],transform=data_transforms[x]) \n",
        "            for x in ['train', 'val']}\n",
        "train_val_dataloaders = {x: torch.utils.data.DataLoader(train_val_datasets[x], batch_size=50,\n",
        "                                             shuffle=True, num_workers=4)\n",
        "              for x in ['train', 'val']}\n",
        "dataset_sizes = {x: len(train_val_datasets[x]) for x in ['train', 'val']}\n",
        "\n",
        "# class_names = datasets['train'].classes\n",
        "\n",
        "device = torch.device(\"cuda:0\" if torch.cuda.is_available() else \"cpu\")"
      ]
    },
    {
      "cell_type": "code",
      "execution_count": 7,
      "metadata": {
        "id": "bkmaZ7J5dZui"
      },
      "outputs": [],
      "source": [
        "def train_model(dataloaders, model, criterion, optimizer, scheduler, num_epochs=25):\n",
        "    since = time.time()\n",
        "\n",
        "    best_model_wts = copy.deepcopy(model.state_dict())\n",
        "    best_acc = 0.0\n",
        "\n",
        "    for epoch in range(num_epochs):\n",
        "        print(f'Epoch {epoch}/{num_epochs - 1}')\n",
        "        print('-' * 10)\n",
        "\n",
        "        # Each epoch has a training and validation phase\n",
        "        for phase in ['train', 'val']:\n",
        "            if phase == 'train':\n",
        "                model.train()  # Set model to training mode\n",
        "            else:\n",
        "                model.eval()   # Set model to evaluate mode\n",
        "\n",
        "            running_loss = 0.0\n",
        "            running_corrects = 0.0\n",
        "              # Iterate over data.\n",
        "            for inputs, labels in dataloaders[phase]:\n",
        "              inputs = inputs.to(device)\n",
        "              labels = labels.to(device)\n",
        "              # zero the parameter gradients\n",
        "              optimizer.zero_grad()\n",
        "\n",
        "              # forward\n",
        "              # track history if only in train\n",
        "              with torch.set_grad_enabled(phase == 'train'):\n",
        "                outputs = model(inputs)\n",
        "                _, preds = torch.max(outputs, -1)\n",
        "                loss = criterion(outputs, labels)\n",
        "\n",
        "                # backward + optimize only if in training phase\n",
        "                if phase == 'train':\n",
        "                      loss.backward()\n",
        "                      optimizer.step()\n",
        "\n",
        "              # statistics\n",
        "              _, label = torch.max(labels, -1)\n",
        "              running_loss += loss.item() * inputs.size(0)\n",
        "              running_corrects += torch.sum(preds == label)\n",
        "            if phase == 'train':\n",
        "                 scheduler.step()\n",
        "\n",
        "            epoch_loss = running_loss / dataset_sizes[phase]\n",
        "            epoch_acc = running_corrects / dataset_sizes[phase]\n",
        "\n",
        "            print(f'{phase} Loss: {epoch_loss:.4f} Acc: {epoch_acc:.4f}')\n",
        "\n",
        "            # deep copy the model\n",
        "            if phase == 'val' and epoch_acc > best_acc:\n",
        "                best_acc = epoch_acc\n",
        "                best_model_wts = copy.deepcopy(model.state_dict())\n",
        "                print(f'Best val Acc: {best_acc:4f}')\n",
        "                model.load_state_dict(best_model_wts)\n",
        "\n",
        "        print()\n",
        "\n",
        "    time_elapsed = time.time() - since\n",
        "    print(f'Training complete in {time_elapsed // 60:.0f}m {time_elapsed % 60:.0f}s')\n",
        "    print(f'Best val Acc: {best_acc:4f}')\n",
        "\n",
        "    # load best model weights\n",
        "    model.load_state_dict(best_model_wts)\n",
        "    return model"
      ]
    },
    {
      "cell_type": "code",
      "execution_count": 8,
      "metadata": {
        "id": "0FMTdwUMdcFm"
      },
      "outputs": [],
      "source": [
        "import torch.nn as nn\n",
        "import torchvision.models as models\n",
        "class swin_v2_t_model(torch.nn.Module):\n",
        "    def __init__(self, n_class):\n",
        "        super(swin_v2_t_model, self).__init__()\n",
        "        swinv2t = models.swin_v2_t(pretrained=True)\n",
        "        base_layers = list(swinv2t.children())\n",
        "        self.backbone = nn.Sequential(*base_layers[:5])\n",
        "        for param in self.backbone.parameters():\n",
        "          param.requires_grad = False\n",
        "        self.cls = base_layers[5]\n",
        "        num_ftrs = self.cls.in_features\n",
        "        self.cls = nn.Linear(num_ftrs,n_class)\n",
        "    def forward(self, x):\n",
        "        x = self.backbone(x)\n",
        "        x = self.cls(x)     \n",
        "        return x"
      ]
    },
    {
      "cell_type": "code",
      "execution_count": 9,
      "metadata": {
        "id": "_Rr73lUEddcr",
        "colab": {
          "base_uri": "https://localhost:8080/"
        },
        "outputId": "d63d4d23-03d1-43d3-87a4-648dc830b08c"
      },
      "outputs": [
        {
          "output_type": "stream",
          "name": "stderr",
          "text": [
            "Downloading: \"https://download.pytorch.org/models/swin_v2_t-b137f0e2.pth\" to /root/.cache/torch/hub/checkpoints/swin_v2_t-b137f0e2.pth\n",
            "100%|██████████| 109M/109M [00:01<00:00, 64.6MB/s]\n"
          ]
        }
      ],
      "source": [
        "model_ft = swin_v2_t_model(7)\n",
        "#Finetuningmodel_ft = swin_v2_t_model(7)\n",
        "#Finetuning\n",
        "model_ft = model_ft.to(device)\n",
        "\n",
        "criterion = nn.CrossEntropyLoss()\n",
        "\n",
        "# Observe that all parameters are being optimized\n",
        "optimizer_ft = optim.SGD(model_ft.parameters(), lr=0.01, momentum=0.9)\n",
        "\n",
        "# Decay LR by a factor of 0.1 every 7 epochs\n",
        "exp_lr_scheduler = lr_scheduler.StepLR(optimizer_ft, step_size=7, gamma=0.1)\n",
        "model_ft = model_ft.to(device)\n",
        "\n",
        "criterion = nn.CrossEntropyLoss()\n",
        "\n",
        "# Observe that all parameters are being optimized\n",
        "optimizer_ft = optim.SGD(model_ft.parameters(), lr=0.01, momentum=0.9)\n",
        "\n",
        "# Decay LR by a factor of 0.1 every 7 epochs\n",
        "exp_lr_scheduler = lr_scheduler.StepLR(optimizer_ft, step_size=7, gamma=0.1)"
      ]
    },
    {
      "cell_type": "code",
      "execution_count": 10,
      "metadata": {
        "colab": {
          "base_uri": "https://localhost:8080/"
        },
        "id": "dv_6sBEAdiB8",
        "outputId": "6e3adada-19c7-400c-ae49-7054311bb9aa"
      },
      "outputs": [
        {
          "output_type": "stream",
          "name": "stdout",
          "text": [
            "Epoch 0/8\n",
            "----------\n",
            "train Loss: 0.8414 Acc: 0.7110\n",
            "val Loss: 0.8305 Acc: 0.7098\n",
            "Best val Acc: 0.709845\n",
            "\n",
            "Epoch 1/8\n",
            "----------\n",
            "train Loss: 0.7084 Acc: 0.7458\n",
            "val Loss: 0.8174 Acc: 0.7047\n",
            "\n",
            "Epoch 2/8\n",
            "----------\n",
            "train Loss: 0.6723 Acc: 0.7566\n",
            "val Loss: 0.7271 Acc: 0.7513\n",
            "Best val Acc: 0.751295\n",
            "\n",
            "Epoch 3/8\n",
            "----------\n",
            "train Loss: 0.6553 Acc: 0.7631\n",
            "val Loss: 0.7184 Acc: 0.7617\n",
            "Best val Acc: 0.761658\n",
            "\n",
            "Epoch 4/8\n",
            "----------\n",
            "train Loss: 0.6354 Acc: 0.7789\n",
            "val Loss: 0.7532 Acc: 0.7617\n",
            "\n",
            "Epoch 5/8\n",
            "----------\n",
            "train Loss: 0.6260 Acc: 0.7762\n",
            "val Loss: 0.7884 Acc: 0.7254\n",
            "\n",
            "Epoch 6/8\n",
            "----------\n",
            "train Loss: 0.6226 Acc: 0.7747\n",
            "val Loss: 0.7238 Acc: 0.7617\n",
            "\n",
            "Epoch 7/8\n",
            "----------\n",
            "train Loss: 0.5989 Acc: 0.7852\n",
            "val Loss: 0.7048 Acc: 0.7772\n",
            "Best val Acc: 0.777202\n",
            "\n",
            "Epoch 8/8\n",
            "----------\n",
            "train Loss: 0.5958 Acc: 0.7848\n",
            "val Loss: 0.7007 Acc: 0.7876\n",
            "Best val Acc: 0.787565\n",
            "\n",
            "Training complete in 75m 22s\n",
            "Best val Acc: 0.787565\n"
          ]
        }
      ],
      "source": [
        "#Train 5 epochs\n",
        "model_ft = train_model(train_val_dataloaders, model_ft, criterion, optimizer_ft, exp_lr_scheduler, num_epochs=9)"
      ]
    },
    {
      "cell_type": "code",
      "source": [
        "test_data_dir = '/content/drive/MyDrive/data_val/ISIC2018_Task3_Test_Input/'\n",
        "test_groundtruth = '/content/drive/MyDrive/data_val/ISIC2018_Task3_Test_GroundTruth/ISIC2018_Task3_Test_GroundTruth.csv'\n",
        "testdataset = CustomMyDataset(test_groundtruth , test_data_dir,transform=data_transforms['val'])\n",
        "testdataloader = torch.utils.data.DataLoader(testdataset, batch_size = 10, shuffle=True, num_workers=4)"
      ],
      "metadata": {
        "id": "ok5SJJuJ4L_8"
      },
      "execution_count": 11,
      "outputs": []
    },
    {
      "cell_type": "code",
      "execution_count": 12,
      "metadata": {
        "id": "gvqyRlBFxZ18"
      },
      "outputs": [],
      "source": [
        "import torch\n",
        "import torch.nn.functional as func\n",
        "def test_model(model, testdataloader):\n",
        "  predictions = []\n",
        "  predictions_onehot = []\n",
        "  for inputs, labels in testdataloader:\n",
        "    model.eval()\n",
        "    inputs = inputs.to(device)\n",
        "    scores = model(inputs)\n",
        "    _, pred = torch.max(scores, -1)\n",
        "    _, label = torch.max(labels, -1)\n",
        "    for i in range(0,inputs.size(0)):\n",
        "      predictions.append(pred[i])\n",
        "    ## print(predictions)\n",
        "  model_ft.train()\n",
        "  for i in range(0,len(predictions)):\n",
        "    predictions_onehot.append(func.one_hot(predictions[i], num_classes = 7))\n",
        "  return predictions_onehot"
      ]
    },
    {
      "cell_type": "code",
      "source": [
        "preds = test_model(model_ft, testdataloader)"
      ],
      "metadata": {
        "id": "XmkGq9wRVuku"
      },
      "execution_count": 13,
      "outputs": []
    },
    {
      "cell_type": "code",
      "source": [
        "from google.colab import files\n",
        "upploaded = files.upload()"
      ],
      "metadata": {
        "colab": {
          "base_uri": "https://localhost:8080/",
          "height": 73
        },
        "id": "tFWVHd4yyObm",
        "outputId": "d865f123-b799-4147-998a-a4ed3ec4f5cd"
      },
      "execution_count": 14,
      "outputs": [
        {
          "output_type": "display_data",
          "data": {
            "text/plain": [
              "<IPython.core.display.HTML object>"
            ],
            "text/html": [
              "\n",
              "     <input type=\"file\" id=\"files-05fac0d9-8b01-4c3e-8652-263b98a9f425\" name=\"files[]\" multiple disabled\n",
              "        style=\"border:none\" />\n",
              "     <output id=\"result-05fac0d9-8b01-4c3e-8652-263b98a9f425\">\n",
              "      Upload widget is only available when the cell has been executed in the\n",
              "      current browser session. Please rerun this cell to enable.\n",
              "      </output>\n",
              "      <script>// Copyright 2017 Google LLC\n",
              "//\n",
              "// Licensed under the Apache License, Version 2.0 (the \"License\");\n",
              "// you may not use this file except in compliance with the License.\n",
              "// You may obtain a copy of the License at\n",
              "//\n",
              "//      http://www.apache.org/licenses/LICENSE-2.0\n",
              "//\n",
              "// Unless required by applicable law or agreed to in writing, software\n",
              "// distributed under the License is distributed on an \"AS IS\" BASIS,\n",
              "// WITHOUT WARRANTIES OR CONDITIONS OF ANY KIND, either express or implied.\n",
              "// See the License for the specific language governing permissions and\n",
              "// limitations under the License.\n",
              "\n",
              "/**\n",
              " * @fileoverview Helpers for google.colab Python module.\n",
              " */\n",
              "(function(scope) {\n",
              "function span(text, styleAttributes = {}) {\n",
              "  const element = document.createElement('span');\n",
              "  element.textContent = text;\n",
              "  for (const key of Object.keys(styleAttributes)) {\n",
              "    element.style[key] = styleAttributes[key];\n",
              "  }\n",
              "  return element;\n",
              "}\n",
              "\n",
              "// Max number of bytes which will be uploaded at a time.\n",
              "const MAX_PAYLOAD_SIZE = 100 * 1024;\n",
              "\n",
              "function _uploadFiles(inputId, outputId) {\n",
              "  const steps = uploadFilesStep(inputId, outputId);\n",
              "  const outputElement = document.getElementById(outputId);\n",
              "  // Cache steps on the outputElement to make it available for the next call\n",
              "  // to uploadFilesContinue from Python.\n",
              "  outputElement.steps = steps;\n",
              "\n",
              "  return _uploadFilesContinue(outputId);\n",
              "}\n",
              "\n",
              "// This is roughly an async generator (not supported in the browser yet),\n",
              "// where there are multiple asynchronous steps and the Python side is going\n",
              "// to poll for completion of each step.\n",
              "// This uses a Promise to block the python side on completion of each step,\n",
              "// then passes the result of the previous step as the input to the next step.\n",
              "function _uploadFilesContinue(outputId) {\n",
              "  const outputElement = document.getElementById(outputId);\n",
              "  const steps = outputElement.steps;\n",
              "\n",
              "  const next = steps.next(outputElement.lastPromiseValue);\n",
              "  return Promise.resolve(next.value.promise).then((value) => {\n",
              "    // Cache the last promise value to make it available to the next\n",
              "    // step of the generator.\n",
              "    outputElement.lastPromiseValue = value;\n",
              "    return next.value.response;\n",
              "  });\n",
              "}\n",
              "\n",
              "/**\n",
              " * Generator function which is called between each async step of the upload\n",
              " * process.\n",
              " * @param {string} inputId Element ID of the input file picker element.\n",
              " * @param {string} outputId Element ID of the output display.\n",
              " * @return {!Iterable<!Object>} Iterable of next steps.\n",
              " */\n",
              "function* uploadFilesStep(inputId, outputId) {\n",
              "  const inputElement = document.getElementById(inputId);\n",
              "  inputElement.disabled = false;\n",
              "\n",
              "  const outputElement = document.getElementById(outputId);\n",
              "  outputElement.innerHTML = '';\n",
              "\n",
              "  const pickedPromise = new Promise((resolve) => {\n",
              "    inputElement.addEventListener('change', (e) => {\n",
              "      resolve(e.target.files);\n",
              "    });\n",
              "  });\n",
              "\n",
              "  const cancel = document.createElement('button');\n",
              "  inputElement.parentElement.appendChild(cancel);\n",
              "  cancel.textContent = 'Cancel upload';\n",
              "  const cancelPromise = new Promise((resolve) => {\n",
              "    cancel.onclick = () => {\n",
              "      resolve(null);\n",
              "    };\n",
              "  });\n",
              "\n",
              "  // Wait for the user to pick the files.\n",
              "  const files = yield {\n",
              "    promise: Promise.race([pickedPromise, cancelPromise]),\n",
              "    response: {\n",
              "      action: 'starting',\n",
              "    }\n",
              "  };\n",
              "\n",
              "  cancel.remove();\n",
              "\n",
              "  // Disable the input element since further picks are not allowed.\n",
              "  inputElement.disabled = true;\n",
              "\n",
              "  if (!files) {\n",
              "    return {\n",
              "      response: {\n",
              "        action: 'complete',\n",
              "      }\n",
              "    };\n",
              "  }\n",
              "\n",
              "  for (const file of files) {\n",
              "    const li = document.createElement('li');\n",
              "    li.append(span(file.name, {fontWeight: 'bold'}));\n",
              "    li.append(span(\n",
              "        `(${file.type || 'n/a'}) - ${file.size} bytes, ` +\n",
              "        `last modified: ${\n",
              "            file.lastModifiedDate ? file.lastModifiedDate.toLocaleDateString() :\n",
              "                                    'n/a'} - `));\n",
              "    const percent = span('0% done');\n",
              "    li.appendChild(percent);\n",
              "\n",
              "    outputElement.appendChild(li);\n",
              "\n",
              "    const fileDataPromise = new Promise((resolve) => {\n",
              "      const reader = new FileReader();\n",
              "      reader.onload = (e) => {\n",
              "        resolve(e.target.result);\n",
              "      };\n",
              "      reader.readAsArrayBuffer(file);\n",
              "    });\n",
              "    // Wait for the data to be ready.\n",
              "    let fileData = yield {\n",
              "      promise: fileDataPromise,\n",
              "      response: {\n",
              "        action: 'continue',\n",
              "      }\n",
              "    };\n",
              "\n",
              "    // Use a chunked sending to avoid message size limits. See b/62115660.\n",
              "    let position = 0;\n",
              "    do {\n",
              "      const length = Math.min(fileData.byteLength - position, MAX_PAYLOAD_SIZE);\n",
              "      const chunk = new Uint8Array(fileData, position, length);\n",
              "      position += length;\n",
              "\n",
              "      const base64 = btoa(String.fromCharCode.apply(null, chunk));\n",
              "      yield {\n",
              "        response: {\n",
              "          action: 'append',\n",
              "          file: file.name,\n",
              "          data: base64,\n",
              "        },\n",
              "      };\n",
              "\n",
              "      let percentDone = fileData.byteLength === 0 ?\n",
              "          100 :\n",
              "          Math.round((position / fileData.byteLength) * 100);\n",
              "      percent.textContent = `${percentDone}% done`;\n",
              "\n",
              "    } while (position < fileData.byteLength);\n",
              "  }\n",
              "\n",
              "  // All done.\n",
              "  yield {\n",
              "    response: {\n",
              "      action: 'complete',\n",
              "    }\n",
              "  };\n",
              "}\n",
              "\n",
              "scope.google = scope.google || {};\n",
              "scope.google.colab = scope.google.colab || {};\n",
              "scope.google.colab._files = {\n",
              "  _uploadFiles,\n",
              "  _uploadFilesContinue,\n",
              "};\n",
              "})(self);\n",
              "</script> "
            ]
          },
          "metadata": {}
        },
        {
          "output_type": "stream",
          "name": "stdout",
          "text": [
            "Saving SWIN_V2_T_LuongCongHoan.csv to SWIN_V2_T_LuongCongHoan.csv\n"
          ]
        }
      ]
    },
    {
      "cell_type": "code",
      "source": [
        "testcsv=pd.read_csv(test_groundtruth)\n",
        "print(testcsv.iloc[2,0])"
      ],
      "metadata": {
        "colab": {
          "base_uri": "https://localhost:8080/"
        },
        "id": "ucNlStd7c2Na",
        "outputId": "9ce2a9e4-6ec1-4bc7-84b7-8efbdf089b2e"
      },
      "execution_count": 15,
      "outputs": [
        {
          "output_type": "stream",
          "name": "stdout",
          "text": [
            "ISIC_0034526\n"
          ]
        }
      ]
    },
    {
      "cell_type": "code",
      "source": [
        "import csv\n",
        "# Define the filename and open the CSV file\n",
        "filename = 'SWIN_V2_T_LuongCongHoan.csv'\n",
        "def write_csv(preds, testcsv, filename ):\n",
        "  with open(filename, mode='w', newline='') as file:\n",
        "    writer = csv.writer(file)\n",
        "    # Write the headers for the two columns\n",
        "    writer.writerow(['image', 'MEL', 'BCC', 'BCC', 'AKIEC', 'BKL', 'DF', 'VASC',])\n",
        "    for i in range(0,len(preds)):\n",
        "      writer.writerow([testcsv.iloc[i,0],preds[i][0].item(),preds[i][1].item(),preds[i][2].item(),preds[i][3].item(),preds[i][4].item(),preds[i][5].item(),preds[i][6].item()])\n"
      ],
      "metadata": {
        "id": "Ir1u6mvuyAYN"
      },
      "execution_count": 16,
      "outputs": []
    },
    {
      "cell_type": "code",
      "source": [
        "write_csv(preds, testcsv, filename )"
      ],
      "metadata": {
        "id": "O-AmD3I8eg-d"
      },
      "execution_count": 17,
      "outputs": []
    },
    {
      "cell_type": "code",
      "source": [
        "files.download(\"SWIN_V2_T_LuongCongHoan.csv\")\n"
      ],
      "metadata": {
        "colab": {
          "base_uri": "https://localhost:8080/",
          "height": 17
        },
        "id": "X6DkofmdyqBZ",
        "outputId": "044c2c67-3f24-4496-c558-c9d936459b25"
      },
      "execution_count": 18,
      "outputs": [
        {
          "output_type": "display_data",
          "data": {
            "text/plain": [
              "<IPython.core.display.Javascript object>"
            ],
            "application/javascript": [
              "\n",
              "    async function download(id, filename, size) {\n",
              "      if (!google.colab.kernel.accessAllowed) {\n",
              "        return;\n",
              "      }\n",
              "      const div = document.createElement('div');\n",
              "      const label = document.createElement('label');\n",
              "      label.textContent = `Downloading \"${filename}\": `;\n",
              "      div.appendChild(label);\n",
              "      const progress = document.createElement('progress');\n",
              "      progress.max = size;\n",
              "      div.appendChild(progress);\n",
              "      document.body.appendChild(div);\n",
              "\n",
              "      const buffers = [];\n",
              "      let downloaded = 0;\n",
              "\n",
              "      const channel = await google.colab.kernel.comms.open(id);\n",
              "      // Send a message to notify the kernel that we're ready.\n",
              "      channel.send({})\n",
              "\n",
              "      for await (const message of channel.messages) {\n",
              "        // Send a message to notify the kernel that we're ready.\n",
              "        channel.send({})\n",
              "        if (message.buffers) {\n",
              "          for (const buffer of message.buffers) {\n",
              "            buffers.push(buffer);\n",
              "            downloaded += buffer.byteLength;\n",
              "            progress.value = downloaded;\n",
              "          }\n",
              "        }\n",
              "      }\n",
              "      const blob = new Blob(buffers, {type: 'application/binary'});\n",
              "      const a = document.createElement('a');\n",
              "      a.href = window.URL.createObjectURL(blob);\n",
              "      a.download = filename;\n",
              "      div.appendChild(a);\n",
              "      a.click();\n",
              "      div.remove();\n",
              "    }\n",
              "  "
            ]
          },
          "metadata": {}
        },
        {
          "output_type": "display_data",
          "data": {
            "text/plain": [
              "<IPython.core.display.Javascript object>"
            ],
            "application/javascript": [
              "download(\"download_f060fe43-8cf5-4a65-beef-67bdb5b23a30\", \"SWIN_V2_T_LuongCongHoan.csv\", 42373)"
            ]
          },
          "metadata": {}
        }
      ]
    }
  ],
  "metadata": {
    "accelerator": "GPU",
    "colab": {
      "provenance": []
    },
    "gpuClass": "standard",
    "kernelspec": {
      "display_name": "Python 3",
      "name": "python3"
    },
    "language_info": {
      "name": "python"
    }
  },
  "nbformat": 4,
  "nbformat_minor": 0
}